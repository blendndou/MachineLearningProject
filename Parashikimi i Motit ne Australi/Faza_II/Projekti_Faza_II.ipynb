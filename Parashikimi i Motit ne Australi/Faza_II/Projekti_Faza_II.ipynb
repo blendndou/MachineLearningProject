{
 "cells": [
  {
   "cell_type": "code",
   "execution_count": 1,
   "metadata": {},
   "outputs": [],
   "source": [
    "import pandas as pd\n",
    "import numpy as np\n",
    "import matplotlib.pyplot as plt\n",
    "import seaborn as sns\n",
    "%matplotlib inline\n"
   ]
  },
  {
   "cell_type": "code",
   "execution_count": 2,
   "metadata": {},
   "outputs": [],
   "source": [
    "#Mbledhja e te dhenave\n",
    "data = open(\"C:\\\\Users\\\\blend\\\\OneDrive\\\\Desktop\\\\FIEK\\\\Afati i Qeshorit Semestri 2\\\\Machine Learning\\\\Parashikimi i Motit ne Australi\\\\preprocessed_weatherAUS.csv\")"
   ]
  },
  {
   "cell_type": "code",
   "execution_count": 3,
   "metadata": {},
   "outputs": [],
   "source": [
    "traindata = pd.read_csv(data)"
   ]
  },
  {
   "cell_type": "code",
   "execution_count": 4,
   "metadata": {},
   "outputs": [
    {
     "data": {
      "text/plain": [
       "(56420, 23)"
      ]
     },
     "execution_count": 4,
     "metadata": {},
     "output_type": "execute_result"
    }
   ],
   "source": [
    "traindata.shape"
   ]
  },
  {
   "cell_type": "code",
   "execution_count": 5,
   "metadata": {},
   "outputs": [
    {
     "name": "stdout",
     "output_type": "stream",
     "text": [
      "<class 'pandas.core.frame.DataFrame'>\n",
      "RangeIndex: 56420 entries, 0 to 56419\n",
      "Data columns (total 23 columns):\n",
      " #   Column         Non-Null Count  Dtype  \n",
      "---  ------         --------------  -----  \n",
      " 0   Date           56420 non-null  object \n",
      " 1   Location       56420 non-null  object \n",
      " 2   MinTemp        56420 non-null  float64\n",
      " 3   MaxTemp        56420 non-null  float64\n",
      " 4   Rainfall       56420 non-null  float64\n",
      " 5   Evaporation    56420 non-null  float64\n",
      " 6   Sunshine       56420 non-null  float64\n",
      " 7   WindGustDir    56420 non-null  object \n",
      " 8   WindGustSpeed  56420 non-null  float64\n",
      " 9   WindDir9am     56420 non-null  object \n",
      " 10  WindDir3pm     56420 non-null  object \n",
      " 11  WindSpeed9am   56420 non-null  float64\n",
      " 12  WindSpeed3pm   56420 non-null  float64\n",
      " 13  Humidity9am    56420 non-null  float64\n",
      " 14  Humidity3pm    56420 non-null  float64\n",
      " 15  Pressure9am    56420 non-null  float64\n",
      " 16  Pressure3pm    56420 non-null  float64\n",
      " 17  Cloud9am       56420 non-null  float64\n",
      " 18  Cloud3pm       56420 non-null  float64\n",
      " 19  Temp9am        56420 non-null  float64\n",
      " 20  Temp3pm        56420 non-null  float64\n",
      " 21  RainToday      56420 non-null  object \n",
      " 22  RainTomorrow   56420 non-null  object \n",
      "dtypes: float64(16), object(7)\n",
      "memory usage: 9.9+ MB\n"
     ]
    }
   ],
   "source": [
    "traindata.info()"
   ]
  },
  {
   "cell_type": "code",
   "execution_count": 6,
   "metadata": {},
   "outputs": [
    {
     "name": "stdout",
     "output_type": "stream",
     "text": [
      "            MinTemp       MaxTemp      Rainfall   Evaporation      Sunshine   \n",
      "count  56420.000000  56420.000000  56420.000000  56420.000000  56420.000000  \\\n",
      "mean      13.464770     24.219206      2.130397      5.503135      7.735626   \n",
      "std        6.416689      6.970676      7.014822      3.696282      3.758153   \n",
      "min       -6.700000      4.100000      0.000000      0.000000      0.000000   \n",
      "25%        8.600000     18.700000      0.000000      2.800000      5.000000   \n",
      "50%       13.200000     23.900000      0.000000      5.000000      8.600000   \n",
      "75%       18.400000     29.700000      0.600000      7.400000     10.700000   \n",
      "max       31.400000     48.100000    206.200000     81.200000     14.500000   \n",
      "\n",
      "       WindGustSpeed  WindSpeed9am  WindSpeed3pm   Humidity9am   Humidity3pm   \n",
      "count   56420.000000  56420.000000  56420.000000  56420.000000  56420.000000  \\\n",
      "mean       40.877366     15.667228     19.786778     65.874123     49.601985   \n",
      "std        13.335232      8.317005      8.510180     18.513289     20.197040   \n",
      "min         9.000000      2.000000      2.000000      0.000000      0.000000   \n",
      "25%        31.000000      9.000000     13.000000     55.000000     35.000000   \n",
      "50%        39.000000     15.000000     19.000000     67.000000     50.000000   \n",
      "75%        48.000000     20.000000     26.000000     79.000000     63.000000   \n",
      "max       124.000000     67.000000     76.000000    100.000000    100.000000   \n",
      "\n",
      "        Pressure9am   Pressure3pm      Cloud9am      Cloud3pm       Temp9am   \n",
      "count  56420.000000  56420.000000  56420.000000  56420.000000  56420.000000  \\\n",
      "mean    1017.239505   1014.795580      4.241705      4.326515     18.204961   \n",
      "std        6.909357      6.870892      2.797162      2.647251      6.567991   \n",
      "min      980.500000    977.100000      0.000000      0.000000     -0.700000   \n",
      "25%     1012.700000   1010.100000      1.000000      2.000000     13.100000   \n",
      "50%     1017.200000   1014.700000      5.000000      5.000000     17.800000   \n",
      "75%     1021.800000   1019.400000      7.000000      7.000000     23.300000   \n",
      "max     1040.400000   1038.900000      8.000000      9.000000     39.400000   \n",
      "\n",
      "            Temp3pm  \n",
      "count  56420.000000  \n",
      "mean      22.710333  \n",
      "std        6.836543  \n",
      "min        3.700000  \n",
      "25%       17.400000  \n",
      "50%       22.400000  \n",
      "75%       27.900000  \n",
      "max       46.100000  \n"
     ]
    }
   ],
   "source": [
    "#përshkrimi ose përmbledhja e të dhënat:\n",
    "print(traindata.describe(exclude=[object]))"
   ]
  },
  {
   "cell_type": "code",
   "execution_count": 7,
   "metadata": {},
   "outputs": [
    {
     "name": "stdout",
     "output_type": "stream",
     "text": [
      "Number of Categorical Features: 7\n",
      "Categorical Features:  ['Date', 'Location', 'WindGustDir', 'WindDir9am', 'WindDir3pm', 'RainToday', 'RainTomorrow']\n"
     ]
    }
   ],
   "source": [
    "#Gjetja e veçorive kategorike në grupin e të dhënave:\n",
    "categorical_features = [column_name for column_name in traindata.columns if traindata[column_name].dtype == 'O']\n",
    "print(\"Number of Categorical Features: {}\".format(len(categorical_features)))\n",
    "print(\"Categorical Features: \",categorical_features)"
   ]
  },
  {
   "cell_type": "code",
   "execution_count": 8,
   "metadata": {},
   "outputs": [
    {
     "name": "stdout",
     "output_type": "stream",
     "text": [
      "Number of Numerical Features: 16\n",
      "Numerical Features:  ['MinTemp', 'MaxTemp', 'Rainfall', 'Evaporation', 'Sunshine', 'WindGustSpeed', 'WindSpeed9am', 'WindSpeed3pm', 'Humidity9am', 'Humidity3pm', 'Pressure9am', 'Pressure3pm', 'Cloud9am', 'Cloud3pm', 'Temp9am', 'Temp3pm']\n"
     ]
    }
   ],
   "source": [
    "#Gjetja e veçorive numerike në grupin e të dhënave:\n",
    "numerical_features = [column_name for column_name in traindata.columns if traindata[column_name].dtype != 'O']\n",
    "print(\"Number of Numerical Features: {}\".format(len(numerical_features)))\n",
    "print(\"Numerical Features: \",numerical_features)"
   ]
  },
  {
   "cell_type": "code",
   "execution_count": 9,
   "metadata": {},
   "outputs": [],
   "source": [
    "#heqja e outlier nga veçoritë numerike:\n",
    "features_with_outliers = ['MinTemp', 'MaxTemp', 'Rainfall', 'Evaporation', 'WindGustSpeed','WindSpeed9am', 'WindSpeed3pm', 'Humidity9am', 'Pressure9am', 'Pressure3pm', 'Temp9am', 'Temp3pm']\n",
    "for feature in features_with_outliers:\n",
    "    q1 = traindata[feature].quantile(0.25)\n",
    "    q3 = traindata[feature].quantile(0.75)\n",
    "    IQR = q3-q1\n",
    "    lower_limit = q1 - (IQR*1.5)\n",
    "    upper_limit = q3 + (IQR*1.5)\n",
    "    traindata.loc[traindata[feature]<lower_limit,feature] = lower_limit\n",
    "    traindata.loc[traindata[feature]>upper_limit,feature] = upper_limit"
   ]
  },
  {
   "cell_type": "code",
   "execution_count": 10,
   "metadata": {},
   "outputs": [
    {
     "data": {
      "text/html": [
       "<div>\n",
       "<style scoped>\n",
       "    .dataframe tbody tr th:only-of-type {\n",
       "        vertical-align: middle;\n",
       "    }\n",
       "\n",
       "    .dataframe tbody tr th {\n",
       "        vertical-align: top;\n",
       "    }\n",
       "\n",
       "    .dataframe thead th {\n",
       "        text-align: right;\n",
       "    }\n",
       "</style>\n",
       "<table border=\"1\" class=\"dataframe\">\n",
       "  <thead>\n",
       "    <tr style=\"text-align: right;\">\n",
       "      <th></th>\n",
       "      <th>Location</th>\n",
       "      <th>MinTemp</th>\n",
       "      <th>MaxTemp</th>\n",
       "      <th>Rainfall</th>\n",
       "      <th>Evaporation</th>\n",
       "      <th>Sunshine</th>\n",
       "      <th>WindGustDir</th>\n",
       "      <th>WindGustSpeed</th>\n",
       "      <th>WindDir9am</th>\n",
       "      <th>WindDir3pm</th>\n",
       "      <th>...</th>\n",
       "      <th>Humidity9am</th>\n",
       "      <th>Humidity3pm</th>\n",
       "      <th>Pressure9am</th>\n",
       "      <th>Pressure3pm</th>\n",
       "      <th>Cloud9am</th>\n",
       "      <th>Cloud3pm</th>\n",
       "      <th>Temp9am</th>\n",
       "      <th>Temp3pm</th>\n",
       "      <th>RainToday</th>\n",
       "      <th>RainTomorrow</th>\n",
       "    </tr>\n",
       "  </thead>\n",
       "  <tbody>\n",
       "    <tr>\n",
       "      <th>0</th>\n",
       "      <td>Cobar</td>\n",
       "      <td>17.9</td>\n",
       "      <td>35.2</td>\n",
       "      <td>0.0</td>\n",
       "      <td>12.0</td>\n",
       "      <td>12.3</td>\n",
       "      <td>SSW</td>\n",
       "      <td>48.0</td>\n",
       "      <td>ENE</td>\n",
       "      <td>SW</td>\n",
       "      <td>...</td>\n",
       "      <td>20.0</td>\n",
       "      <td>13.0</td>\n",
       "      <td>1006.3</td>\n",
       "      <td>1004.4</td>\n",
       "      <td>2.0</td>\n",
       "      <td>5.0</td>\n",
       "      <td>26.6</td>\n",
       "      <td>33.4</td>\n",
       "      <td>No</td>\n",
       "      <td>No</td>\n",
       "    </tr>\n",
       "    <tr>\n",
       "      <th>1</th>\n",
       "      <td>Cobar</td>\n",
       "      <td>18.4</td>\n",
       "      <td>28.9</td>\n",
       "      <td>0.0</td>\n",
       "      <td>14.3</td>\n",
       "      <td>13.0</td>\n",
       "      <td>S</td>\n",
       "      <td>37.0</td>\n",
       "      <td>SSE</td>\n",
       "      <td>SSE</td>\n",
       "      <td>...</td>\n",
       "      <td>30.0</td>\n",
       "      <td>8.0</td>\n",
       "      <td>1012.9</td>\n",
       "      <td>1012.1</td>\n",
       "      <td>1.0</td>\n",
       "      <td>1.0</td>\n",
       "      <td>20.3</td>\n",
       "      <td>27.0</td>\n",
       "      <td>No</td>\n",
       "      <td>No</td>\n",
       "    </tr>\n",
       "    <tr>\n",
       "      <th>2</th>\n",
       "      <td>Cobar</td>\n",
       "      <td>19.4</td>\n",
       "      <td>37.6</td>\n",
       "      <td>0.0</td>\n",
       "      <td>10.8</td>\n",
       "      <td>10.6</td>\n",
       "      <td>NNE</td>\n",
       "      <td>46.0</td>\n",
       "      <td>NNE</td>\n",
       "      <td>NNW</td>\n",
       "      <td>...</td>\n",
       "      <td>42.0</td>\n",
       "      <td>22.0</td>\n",
       "      <td>1012.3</td>\n",
       "      <td>1009.2</td>\n",
       "      <td>1.0</td>\n",
       "      <td>6.0</td>\n",
       "      <td>28.7</td>\n",
       "      <td>34.9</td>\n",
       "      <td>No</td>\n",
       "      <td>No</td>\n",
       "    </tr>\n",
       "    <tr>\n",
       "      <th>3</th>\n",
       "      <td>Cobar</td>\n",
       "      <td>21.9</td>\n",
       "      <td>38.4</td>\n",
       "      <td>0.0</td>\n",
       "      <td>11.4</td>\n",
       "      <td>12.2</td>\n",
       "      <td>WNW</td>\n",
       "      <td>31.0</td>\n",
       "      <td>WNW</td>\n",
       "      <td>WSW</td>\n",
       "      <td>...</td>\n",
       "      <td>37.0</td>\n",
       "      <td>22.0</td>\n",
       "      <td>1012.7</td>\n",
       "      <td>1009.1</td>\n",
       "      <td>1.0</td>\n",
       "      <td>5.0</td>\n",
       "      <td>29.1</td>\n",
       "      <td>35.6</td>\n",
       "      <td>No</td>\n",
       "      <td>No</td>\n",
       "    </tr>\n",
       "    <tr>\n",
       "      <th>4</th>\n",
       "      <td>Cobar</td>\n",
       "      <td>24.2</td>\n",
       "      <td>41.0</td>\n",
       "      <td>0.0</td>\n",
       "      <td>11.2</td>\n",
       "      <td>8.4</td>\n",
       "      <td>WNW</td>\n",
       "      <td>35.0</td>\n",
       "      <td>NW</td>\n",
       "      <td>WNW</td>\n",
       "      <td>...</td>\n",
       "      <td>19.0</td>\n",
       "      <td>15.0</td>\n",
       "      <td>1010.7</td>\n",
       "      <td>1007.4</td>\n",
       "      <td>1.0</td>\n",
       "      <td>6.0</td>\n",
       "      <td>33.6</td>\n",
       "      <td>37.6</td>\n",
       "      <td>No</td>\n",
       "      <td>No</td>\n",
       "    </tr>\n",
       "  </tbody>\n",
       "</table>\n",
       "<p>5 rows × 22 columns</p>\n",
       "</div>"
      ],
      "text/plain": [
       "  Location  MinTemp  MaxTemp  Rainfall  Evaporation  Sunshine WindGustDir   \n",
       "0    Cobar     17.9     35.2       0.0         12.0      12.3         SSW  \\\n",
       "1    Cobar     18.4     28.9       0.0         14.3      13.0           S   \n",
       "2    Cobar     19.4     37.6       0.0         10.8      10.6         NNE   \n",
       "3    Cobar     21.9     38.4       0.0         11.4      12.2         WNW   \n",
       "4    Cobar     24.2     41.0       0.0         11.2       8.4         WNW   \n",
       "\n",
       "   WindGustSpeed WindDir9am WindDir3pm  ...  Humidity9am  Humidity3pm   \n",
       "0           48.0        ENE         SW  ...         20.0         13.0  \\\n",
       "1           37.0        SSE        SSE  ...         30.0          8.0   \n",
       "2           46.0        NNE        NNW  ...         42.0         22.0   \n",
       "3           31.0        WNW        WSW  ...         37.0         22.0   \n",
       "4           35.0         NW        WNW  ...         19.0         15.0   \n",
       "\n",
       "   Pressure9am  Pressure3pm  Cloud9am  Cloud3pm  Temp9am  Temp3pm  RainToday   \n",
       "0       1006.3       1004.4       2.0       5.0     26.6     33.4         No  \\\n",
       "1       1012.9       1012.1       1.0       1.0     20.3     27.0         No   \n",
       "2       1012.3       1009.2       1.0       6.0     28.7     34.9         No   \n",
       "3       1012.7       1009.1       1.0       5.0     29.1     35.6         No   \n",
       "4       1010.7       1007.4       1.0       6.0     33.6     37.6         No   \n",
       "\n",
       "   RainTomorrow  \n",
       "0            No  \n",
       "1            No  \n",
       "2            No  \n",
       "3            No  \n",
       "4            No  \n",
       "\n",
       "[5 rows x 22 columns]"
      ]
     },
     "execution_count": 10,
     "metadata": {},
     "output_type": "execute_result"
    }
   ],
   "source": [
    "#Kolona e datës  ka kardinalitet të lartë që paraqet disa probleme për modelin në aspektin e\n",
    "# efikasitetit dhe gjithashtu dimensionet e të dhënave rriten kur kodohen në të dhëna numerike\n",
    "# prandaj e largojm\n",
    "traindata.drop('Date', axis = 1, inplace = True)\n",
    "traindata.head()"
   ]
  },
  {
   "cell_type": "code",
   "execution_count": 11,
   "metadata": {},
   "outputs": [],
   "source": [
    "#Konvertimi i të dhënave kategorike  në të dhëna numerike për modelim\n",
    "def encode_data(feature_name):\n",
    "    mapping_dict = {}\n",
    "\n",
    "    unique_values = list(traindata[feature_name].unique())\n",
    "\n",
    "    for idx in range(len(unique_values)):\n",
    "\n",
    "        mapping_dict[unique_values[idx]] = idx\n",
    "\n",
    "    return mapping_dict\n",
    "traindata['RainToday'].replace({'No':0, 'Yes': 1}, inplace = True)\n",
    "\n",
    "traindata['RainTomorrow'].replace({'No':0, 'Yes': 1}, inplace = True)\n",
    "\n",
    "traindata['WindGustDir'].replace(encode_data('WindGustDir'),inplace = True)\n",
    "\n",
    "traindata['WindDir9am'].replace(encode_data('WindDir9am'),inplace = True)\n",
    "\n",
    "traindata['WindDir3pm'].replace(encode_data('WindDir3pm'),inplace = True)\n",
    "\n",
    "traindata['Location'].replace(encode_data('Location'), inplace = True)"
   ]
  },
  {
   "cell_type": "code",
   "execution_count": 12,
   "metadata": {},
   "outputs": [],
   "source": [
    "X = traindata.drop(['RainTomorrow'],axis=1)\n",
    "y = traindata['RainTomorrow']"
   ]
  },
  {
   "cell_type": "code",
   "execution_count": 13,
   "metadata": {},
   "outputs": [],
   "source": [
    "# ndarja e te dhenave ne train dhe test\n",
    "from sklearn.model_selection import train_test_split\n",
    "X_train, X_test, y_train, y_test = train_test_split(X,y, test_size = 0.2, random_state = 0)"
   ]
  },
  {
   "cell_type": "code",
   "execution_count": 14,
   "metadata": {},
   "outputs": [
    {
     "name": "stdout",
     "output_type": "stream",
     "text": [
      "Length of Training Data: 45136\n",
      "Length of Testing Data: 11284\n"
     ]
    }
   ],
   "source": [
    "print(\"Length of Training Data: {}\".format(len(X_train)))\n",
    "print(\"Length of Testing Data: {}\".format(len(X_test)))"
   ]
  },
  {
   "cell_type": "code",
   "execution_count": 15,
   "metadata": {},
   "outputs": [
    {
     "data": {
      "text/plain": [
       "<Axes: >"
      ]
     },
     "execution_count": 15,
     "metadata": {},
     "output_type": "execute_result"
    },
    {
     "data": {
      "image/png": "[encoded data removed]",
      "text/plain": [
       "<Figure size 640x480 with 1 Axes>"
      ]
     },
     "metadata": {},
     "output_type": "display_data"
    }
   ],
   "source": [
    "#Nxjerrja e veqorive te rendesishme per te trajnuar modelin\n",
    "from sklearn.ensemble import ExtraTreesRegressor\n",
    "etr_model = ExtraTreesRegressor()\n",
    "etr_model.fit(X,y)\n",
    "etr_model.feature_importances_\n",
    "\n",
    "#vizualizimi\n",
    "\n",
    "feature_imp = pd.Series(etr_model.feature_importances_,index=X.columns)\n",
    "feature_imp.nlargest(10).plot(kind='barh')"
   ]
  },
  {
   "cell_type": "code",
   "execution_count": 16,
   "metadata": {},
   "outputs": [],
   "source": [
    "#Shkallezimi i te dhenave\n",
    "from sklearn.preprocessing import StandardScaler\n",
    "scaler = StandardScaler()\n",
    "X_train = scaler.fit_transform(X_train)\n",
    "X_test = scaler.transform(X_test)"
   ]
  },
  {
   "cell_type": "code",
   "execution_count": 17,
   "metadata": {},
   "outputs": [
    {
     "data": {
      "text/plain": [
       "array([0, 0, 0, ..., 0, 0, 0], dtype=int64)"
      ]
     },
     "execution_count": 17,
     "metadata": {},
     "output_type": "execute_result"
    }
   ],
   "source": [
    "#Klasifikimi me LogisticRegression\n",
    "from sklearn.linear_model import LogisticRegression\n",
    "classifier1 = LogisticRegression(solver='liblinear', random_state=0)\n",
    "classifier1.fit(X_train, y_train)\n",
    "\n",
    "y_pred = classifier1.predict(X_test)\n",
    "y_pred"
   ]
  },
  {
   "cell_type": "code",
   "execution_count": 18,
   "metadata": {},
   "outputs": [
    {
     "name": "stdout",
     "output_type": "stream",
     "text": [
      "Saktesia per Klasifikim me Logistic Regression: 86.09535625664658%\n"
     ]
    }
   ],
   "source": [
    "#llogaritja e accuracy score\n",
    "from sklearn.metrics import accuracy_score\n",
    "print(\"Saktesia per Klasifikim me Logistic Regression: {}\".format(accuracy_score(y_test,y_pred)*100)+\"%\")"
   ]
  },
  {
   "cell_type": "code",
   "execution_count": 19,
   "metadata": {},
   "outputs": [
    {
     "name": "stdout",
     "output_type": "stream",
     "text": [
      "Saktesia per Klasifikim me Random Forest: 86.59163417227933%\n"
     ]
    }
   ],
   "source": [
    "#Klasifikimi me RandomForest\n",
    "from sklearn.ensemble import RandomForestClassifier\n",
    "classifier2 = RandomForestClassifier()\n",
    "classifier2.fit(X_train, y_train)\n",
    "\n",
    "y_pred1 = classifier2.predict(X_test)\n",
    "\n",
    "print(\"Saktesia per Klasifikim me Random Forest: {}\".format(accuracy_score(y_pred1,y_test)*100)+\"%\")"
   ]
  },
  {
   "cell_type": "code",
   "execution_count": 20,
   "metadata": {},
   "outputs": [
    {
     "name": "stdout",
     "output_type": "stream",
     "text": [
      "Saktesia per Klasifikim me KNN: 84.42041829138603\n"
     ]
    }
   ],
   "source": [
    "#Klasifikimi me KNN\n",
    "from sklearn.neighbors import KNeighborsClassifier\n",
    "classifier3 = KNeighborsClassifier(n_neighbors = 5)\n",
    "classifier3.fit(X_train,y_train)\n",
    "\n",
    "y_pred2 = classifier3.predict(X_test)\n",
    "score = accuracy_score(y_test,y_pred2)\n",
    "print('Saktesia per Klasifikim me KNN:',score*100)"
   ]
  },
  {
   "cell_type": "code",
   "execution_count": 21,
   "metadata": {},
   "outputs": [
    {
     "name": "stdout",
     "output_type": "stream",
     "text": [
      "Saktesia per Klasifikim me Naive Bayes: 78.52711804324709\n"
     ]
    }
   ],
   "source": [
    "#Klasifikimi me Naive Bayes\n",
    "from sklearn.naive_bayes import GaussianNB\n",
    "classifier4 = GaussianNB()\n",
    "classifier4.fit(X_train, y_train)\n",
    "\n",
    "Y_predict3 = classifier4.predict(X_test)\n",
    "score = classifier4.score(X_test, y_test)\n",
    "print('Saktesia per Klasifikim me Naive Bayes:',score*100)"
   ]
  },
  {
   "cell_type": "code",
   "execution_count": 22,
   "metadata": {},
   "outputs": [
    {
     "name": "stdout",
     "output_type": "stream",
     "text": [
      "Saktesia per Klasifikim me DecisionTreeClassifier: 79.69691598723857\n"
     ]
    }
   ],
   "source": [
    "#Klasifikimi me Decision Tree\n",
    "from sklearn.tree import DecisionTreeClassifier\n",
    "classifier5 = DecisionTreeClassifier(random_state=9)\n",
    "classifier5.fit(X_train, y_train)\n",
    "Y_predict4 = classifier5.predict(X_test)\n",
    "score = classifier5.score(X_test, y_test)\n",
    "print('Saktesia per Klasifikim me DecisionTreeClassifier:',score*100)"
   ]
  }
 ],
 "metadata": {
  "kernelspec": {
   "display_name": "Python 3",
   "language": "python",
   "name": "python3"
  },
  "language_info": {
   "codemirror_mode": {
    "name": "ipython",
    "version": 3
   },
   "file_extension": ".py",
   "mimetype": "text/x-python",
   "name": "python",
   "nbconvert_exporter": "python",
   "pygments_lexer": "ipython3",
   "version": "3.11.2"
  },
  "vscode": {
   "interpreter": {
    "hash": "47bc5c1f72629cced23e331d1c687949030507083be5845bf51766b7bbf77e40"
   }
  }
 },
 "nbformat": 4,
 "nbformat_minor": 4
}
